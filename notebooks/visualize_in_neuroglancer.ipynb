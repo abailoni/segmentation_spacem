{
 "cells": [
  {
   "cell_type": "code",
   "execution_count": 3,
   "metadata": {
    "pycharm": {
     "name": "#%%\n"
    }
   },
   "outputs": [
    {
     "name": "stdout",
     "output_type": "stream",
     "text": [
      "The autoreload extension is already loaded. To reload it, use:\n",
      "  %reload_ext autoreload\n",
      "http://127.0.0.1:7010/v/5bd72cb55f1f12c70df3001df420dd4e094dc35e/\n"
     ]
    }
   ],
   "source": [
    "%matplotlib inline\n",
    "%load_ext autoreload\n",
    "%autoreload 2\n",
    "\n",
    "import vigra\n",
    "import numpy as np\n",
    "import os\n",
    "import argparse\n",
    "from itertools import repeat\n",
    "\n",
    "\n",
    "from functools import partial\n",
    "\n",
    "from segmfriends.utils.various import parse_data_slice\n",
    "from segmfriends.utils import various as sgm_utils\n",
    "import time\n",
    "import h5py\n",
    "\n",
    "import neuroglancer\n",
    "\n",
    "# if 'viewer' not in globals():\n",
    "neuroglancer.set_server_bind_address(bind_port=7010)\n",
    "viewer = neuroglancer.Viewer()\n",
    "\n",
    "print(viewer)\n",
    "\n",
    "from PIL import Image\n",
    "from segmfriends.utils.various import writeHDF5, readHDF5, get_hdf5_inner_paths\n"
   ]
  },
  {
   "cell_type": "code",
   "execution_count": 17,
   "metadata": {
    "pycharm": {
     "name": "#%%\n"
    }
   },
   "outputs": [],
   "source": [
    "main_data_dir = \"/scratch/bailoni/projects/train_cellpose/hdf5_data\"\n",
    "\n",
    "datasets = [\n",
    "        \"alex\",\n",
    "        \"LIVECell_test\"\n",
    "]\n",
    "\n",
    "model_names = {\n",
    "    \"cyto2_diamEst\": \"CellPose cyto2 model\",\n",
    "                      # \"cyto_diamEst\": \"CellPose cyto\",\n",
    "                      \"trained_on_LIVECell_noDiamEst\": \"Trained on LIVECell+CellPose from scratch\",\n",
    "                      # \"trained_on_LIVECell_diamEst\": \"Trained on LIVECell+CellPose data (est diam)\",\n",
    "                      # \"trained_on_cellpose_noDiamEst\": \"Trained on CellPose data\",\n",
    "                      # \"trained_on_cellpose_diamEst\": \"Trained on CellPose data (est diam)\",\n",
    "                      # \"finetuned_LIVECell_lr_02_noDiamEst\": \"cyto2 finetuned on LIVECell+CellPose\",\n",
    "                      \"finetuned_LIVECell_lr_00002_noDiamEst\": \"cyto2 finetuned on LIVECell+CellPose\",\n",
    "                      # \"finetuned_LIVECell_lr_00002_diamEst\": \"finetuned_LIVECell_lr_00002_diamEst\",\n",
    "                      # \"finetuned_LIVECell_lr_02_diamEst\": \"finetuned_LIVECell_lr_02_diamEst\",\n",
    "}\n",
    "\n",
    "# Get data:\n",
    "GT = readHDF5(os.path.join(main_data_dir, \"LIVECell_train\", \"raw_and_gt.h5\"), \"gt\")\n",
    "raw = readHDF5(os.path.join(main_data_dir, \"LIVECell_train\", \"raw_and_gt.h5\"), \"raw\")\n",
    "# segm = readHDF5(os.path.join(main_data_dir, \"LIVECell_train\", \"cyto2_diamEst.h5\"), \"data\")"
   ]
  },
  {
   "cell_type": "markdown",
   "metadata": {},
   "source": [
    "### Visualize"
   ]
  },
  {
   "cell_type": "code",
   "execution_count": 18,
   "metadata": {
    "pycharm": {
     "name": "#%%\n"
    }
   },
   "outputs": [],
   "source": [
    "dimensions=neuroglancer.CoordinateSpace(\n",
    "                scales=[1, 1, 1],\n",
    "                units=['nm', 'nm', 'nm'],\n",
    "                names=['x', 'y', 'z'])\n",
    "\n",
    "\n",
    "neuroglancer.AnnotationLayer()\n",
    "with viewer.txn() as s:\n",
    "    s.layers['raw'] = neuroglancer.ImageLayer(\n",
    "      source=neuroglancer.LocalVolume(\n",
    "          raw,\n",
    "          dimensions\n",
    "      ))\n",
    "    s.layers['GT'] = neuroglancer.SegmentationLayer(\n",
    "      source=neuroglancer.LocalVolume(\n",
    "          GT.astype('uint32'),\n",
    "          dimensions\n",
    "      ))\n",
    "#     s.layers['segm'] = neuroglancer.SegmentationLayer(\n",
    "#       source=neuroglancer.LocalVolume(\n",
    "#           segm.astype('uint32'),\n",
    "#           dimensions\n",
    "#       ))\n",
    "    s.layers['annotations'] = neuroglancer.AnnotationLayer()\n",
    "\n"
   ]
  }
 ],
 "metadata": {
  "kernelspec": {
   "display_name": "Python 3 (ipykernel)",
   "language": "python",
   "name": "python3"
  },
  "language_info": {
   "codemirror_mode": {
    "name": "ipython",
    "version": 3
   },
   "file_extension": ".py",
   "mimetype": "text/x-python",
   "name": "python",
   "nbconvert_exporter": "python",
   "pygments_lexer": "ipython3",
   "version": "3.8.0"
  }
 },
 "nbformat": 4,
 "nbformat_minor": 1
}
