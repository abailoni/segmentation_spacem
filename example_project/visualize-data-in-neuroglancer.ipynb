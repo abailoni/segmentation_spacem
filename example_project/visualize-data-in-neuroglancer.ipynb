{
 "cells": [
  {
   "cell_type": "markdown",
   "metadata": {},
   "source": [
    "# Visualize data in Neuroglancer\n",
    "\n",
    "## 1. Import packages and starting neuroglancer server\n",
    "By running the cell below, you will get a link as output (using port 7010 by default, but you can change it). \n",
    "After you run the full notebook, at this link you will be able to see the segmentations and microscopy images.\n",
    "\n",
    "Documentation on [neuroglancer](https://github.com/google/neuroglancer) is kind of scarse, but if you click on the question mark symbol in the top-right corner of the interface, you will see all the shortcuts and commands you can use to navigate the interface:\n",
    "\n",
    "- Neuroglancer is a software to visualize 3d data and segmentations, and in this case all datasets/segmentations are stacked along a 3rd dimension, so we only care about looking data across xy dimensions (not across xz or yz).\n",
    "- By default in neuroglancer you see all three views, but you can maximize the xy view to the full screen and ignore the other ones (usually the quadrant on the bottom-right).\n",
    "- By scrolling with your mouse, you can move through the third dimension (moving from one dataset to the next one). Instead, with Ctrl+Scroll you can zoom in and out.\n",
    "- Layers are listed on the top-left of the interface. If you re-run the second cell of this notebook, microscopy layers will be updated in the viewer. If you instead re-run the third cell, you will update the segmentation layers. \n",
    "- You can hide or show a layer by clicking on it\n",
    "- By right-clicking on a layer, you open a side-bar on the right: in the `Rendering` tab you find the opacity slider and you can also adjust the contrast of min-max values, similarly to Napari\n",
    "\n",
    "![alt text](imagename.png \"Title\")"
   ]
  },
  {
   "cell_type": "code",
   "execution_count": 1,
   "metadata": {
    "pycharm": {
     "name": "#%%\n"
    },
    "scrolled": true
   },
   "outputs": [
    {
     "name": "stdout",
     "output_type": "stream",
     "text": [
      "http://127.0.0.1:7010/v/de511d0ad26555f2e16f317b3117d90fbe73fc3c/\n"
     ]
    }
   ],
   "source": [
    "%matplotlib inline\n",
    "%load_ext autoreload\n",
    "%autoreload 2\n",
    "\n",
    "import numpy as np\n",
    "import os\n",
    "import argparse\n",
    "from itertools import repeat\n",
    "\n",
    "\n",
    "from functools import partial\n",
    "\n",
    "from segmfriends.utils.various import parse_data_slice\n",
    "from segmfriends.utils import various as sgm_utils\n",
    "import time\n",
    "import h5py\n",
    "\n",
    "import neuroglancer\n",
    "\n",
    "# if 'viewer' not in globals():\n",
    "neuroglancer.set_server_bind_address(bind_port=7010)\n",
    "viewer = neuroglancer.Viewer()\n",
    "\n",
    "print(viewer)\n",
    "\n",
    "from PIL import Image\n",
    "from segmfriends.utils.various import writeHDF5, readHDF5, get_hdf5_inner_paths\n"
   ]
  },
  {
   "cell_type": "markdown",
   "metadata": {},
   "source": [
    "## 2. Load microscopy data in neuroglanger viewer\n",
    "- Below, indicate the path to the zarr file specified in your config file (parameter named `preprocessing/data_zarr_group`).\n",
    "- The `layer_specs` list has the following format: `(NAME_OF_CHANNEL_STORED_IN_ZARR_FILE, \"image\", NAME_LAYER_SHOWN_IN_NEUROGLANCER)`\n",
    "- You should use the same channel names defined in the config file, and you can use any layer name you prefer "
   ]
  },
  {
   "cell_type": "code",
   "execution_count": 2,
   "metadata": {
    "pycharm": {
     "name": "#%%\n"
    }
   },
   "outputs": [],
   "source": [
    "from segmfriends.utils.neuroglancer import visualize_zarr_in_neuroglancer, visualize_zarr_in_neuroglancer_as_numpy\n",
    "dimensions=neuroglancer.CoordinateSpace(\n",
    "                scales=[1, 1, 1],\n",
    "                units=['', '', ''],\n",
    "                names=['z', 'y', 'x'])\n",
    "\n",
    "\n",
    "\n",
    "with viewer.txn() as s:\n",
    "    visualize_zarr_in_neuroglancer_as_numpy(s,\n",
    "                                            \"/scratch/bailoni/projects/cellpose_inference_projects/test_segm_tool/data_v1.zarr\",\n",
    "                                            coordinate_space=dimensions,\n",
    "                                            layers_specs=[(\"BF\", \"image\", \"BF\"),\n",
    "                                                         (\"DAPI\", \"image\", \"DAPI\"),]\n",
    "                                  )\n",
    "\n"
   ]
  },
  {
   "cell_type": "markdown",
   "metadata": {},
   "source": [
    "## 3. Load Segmentations in neuroglancer viewer\n",
    "- As path to segmentations, below you should indicate the following: `/path/to/your/RUN_DIRECTORY/` + `cellpose_predictions/predictions_collected.zarr`\n",
    "- The `layers_specs` list follows the same format, but now we should use `segm` as type of layer, to make sure that the zarr data will be visualized as segmentation layer\n",
    "- The first element of each tuple indicates the zarr_channel name of the segmentation, which will follow as usual the naming scheme of `\"cellpose_model_name\"+\"_diamEst` if the diameter was estimated, otherwise it will have the `_noDiamEst` suffix."
   ]
  },
  {
   "cell_type": "code",
   "execution_count": 3,
   "metadata": {},
   "outputs": [],
   "source": [
    "with viewer.txn() as s:\n",
    "    visualize_zarr_in_neuroglancer_as_numpy(s,\n",
    "                                   \"/scratch/bailoni/projects/cellpose_inference_projects/test_segm_tool/test_run/cellpose_predictions/predictions_collected.zarr\",\n",
    "                                   coordinate_space=dimensions,\n",
    "                                   layers_specs=[\n",
    "                                        (\"cyto2_diamEst\", \"segm\", \"cyto2_diamEst\"),\n",
    "#                                        (\"cyto2_noDiamEst\", \"segm\", \"trained_model_noDiamEst\"),\n",
    "#                                       (\"trained_model_noDiamEst\", \"segm\", \"trained\"),\n",
    "                                                ],\n",
    "                                  )\n",
    "\n",
    "\n"
   ]
  }
 ],
 "metadata": {
  "kernelspec": {
   "display_name": "Python 3 (ipykernel)",
   "language": "python",
   "name": "python3"
  },
  "language_info": {
   "codemirror_mode": {
    "name": "ipython",
    "version": 3
   },
   "file_extension": ".py",
   "mimetype": "text/x-python",
   "name": "python",
   "nbconvert_exporter": "python",
   "pygments_lexer": "ipython3",
   "version": "3.8.19"
  }
 },
 "nbformat": 4,
 "nbformat_minor": 4
}
